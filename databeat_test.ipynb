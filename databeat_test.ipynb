{
 "cells": [
  {
   "cell_type": "code",
   "execution_count": 1,
   "id": "fc897488",
   "metadata": {},
   "outputs": [],
   "source": [
    "import pandas as pd\n",
    "import ast"
   ]
  },
  {
   "cell_type": "code",
   "execution_count": 20,
   "id": "943265ab",
   "metadata": {},
   "outputs": [],
   "source": [
    "data = pd.read_csv('data.csv')"
   ]
  },
  {
   "cell_type": "code",
   "execution_count": 21,
   "id": "595976d4",
   "metadata": {},
   "outputs": [
    {
     "data": {
      "text/html": [
       "<div>\n",
       "<style scoped>\n",
       "    .dataframe tbody tr th:only-of-type {\n",
       "        vertical-align: middle;\n",
       "    }\n",
       "\n",
       "    .dataframe tbody tr th {\n",
       "        vertical-align: top;\n",
       "    }\n",
       "\n",
       "    .dataframe thead th {\n",
       "        text-align: right;\n",
       "    }\n",
       "</style>\n",
       "<table border=\"1\" class=\"dataframe\">\n",
       "  <thead>\n",
       "    <tr style=\"text-align: right;\">\n",
       "      <th></th>\n",
       "      <th>_type</th>\n",
       "      <th>_id</th>\n",
       "      <th>_score</th>\n",
       "      <th>_source</th>\n",
       "    </tr>\n",
       "  </thead>\n",
       "  <tbody>\n",
       "    <tr>\n",
       "      <th>0</th>\n",
       "      <td>movies</td>\n",
       "      <td>97</td>\n",
       "      <td>20.848059</td>\n",
       "      <td>{'cast': ['Jeff Bridges', 'Bruce Boxleitner', ...</td>\n",
       "    </tr>\n",
       "    <tr>\n",
       "      <th>1</th>\n",
       "      <td>movies</td>\n",
       "      <td>507</td>\n",
       "      <td>10.478757</td>\n",
       "      <td>{'cast': ['Eric Stoltz', 'Julie Delpy', 'Jean-...</td>\n",
       "    </tr>\n",
       "    <tr>\n",
       "      <th>2</th>\n",
       "      <td>movies</td>\n",
       "      <td>811</td>\n",
       "      <td>9.831051</td>\n",
       "      <td>{'cast': ['Bruce Dern', 'Cliff Potts', 'Ron Ri...</td>\n",
       "    </tr>\n",
       "    <tr>\n",
       "      <th>3</th>\n",
       "      <td>tvshows</td>\n",
       "      <td>25222</td>\n",
       "      <td>9.288745</td>\n",
       "      <td>{'cast': ['Ron Rifkin', 'Eddie Barth', 'Charle...</td>\n",
       "    </tr>\n",
       "    <tr>\n",
       "      <th>4</th>\n",
       "      <td>movies</td>\n",
       "      <td>757</td>\n",
       "      <td>9.140831</td>\n",
       "      <td>{'cast': ['Margaret Rutherford', 'Ron Moody', ...</td>\n",
       "    </tr>\n",
       "  </tbody>\n",
       "</table>\n",
       "</div>"
      ],
      "text/plain": [
       "     _type    _id     _score  \\\n",
       "0   movies     97  20.848059   \n",
       "1   movies    507  10.478757   \n",
       "2   movies    811   9.831051   \n",
       "3  tvshows  25222   9.288745   \n",
       "4   movies    757   9.140831   \n",
       "\n",
       "                                             _source  \n",
       "0  {'cast': ['Jeff Bridges', 'Bruce Boxleitner', ...  \n",
       "1  {'cast': ['Eric Stoltz', 'Julie Delpy', 'Jean-...  \n",
       "2  {'cast': ['Bruce Dern', 'Cliff Potts', 'Ron Ri...  \n",
       "3  {'cast': ['Ron Rifkin', 'Eddie Barth', 'Charle...  \n",
       "4  {'cast': ['Margaret Rutherford', 'Ron Moody', ...  "
      ]
     },
     "execution_count": 21,
     "metadata": {},
     "output_type": "execute_result"
    }
   ],
   "source": [
    "data.head()"
   ]
  },
  {
   "cell_type": "code",
   "execution_count": 4,
   "id": "c6ad07ae",
   "metadata": {},
   "outputs": [
    {
     "data": {
      "text/plain": [
       "Index(['_type', '_id', '_score', '_source'], dtype='object')"
      ]
     },
     "execution_count": 4,
     "metadata": {},
     "output_type": "execute_result"
    }
   ],
   "source": [
    "data.columns"
   ]
  },
  {
   "cell_type": "code",
   "execution_count": 22,
   "id": "729e9fde",
   "metadata": {},
   "outputs": [],
   "source": [
    "activity_data = pd.read_csv('activity_data.csv')"
   ]
  },
  {
   "cell_type": "code",
   "execution_count": 23,
   "id": "b40ec3be",
   "metadata": {},
   "outputs": [
    {
     "data": {
      "text/html": [
       "<div>\n",
       "<style scoped>\n",
       "    .dataframe tbody tr th:only-of-type {\n",
       "        vertical-align: middle;\n",
       "    }\n",
       "\n",
       "    .dataframe tbody tr th {\n",
       "        vertical-align: top;\n",
       "    }\n",
       "\n",
       "    .dataframe thead th {\n",
       "        text-align: right;\n",
       "    }\n",
       "</style>\n",
       "<table border=\"1\" class=\"dataframe\">\n",
       "  <thead>\n",
       "    <tr style=\"text-align: right;\">\n",
       "      <th></th>\n",
       "      <th>media_type</th>\n",
       "      <th>watched</th>\n",
       "      <th>rating</th>\n",
       "      <th>watchlist</th>\n",
       "      <th>profile_id</th>\n",
       "      <th>id</th>\n",
       "      <th>hide</th>\n",
       "    </tr>\n",
       "  </thead>\n",
       "  <tbody>\n",
       "    <tr>\n",
       "      <th>0</th>\n",
       "      <td>{'S': 'movies'}</td>\n",
       "      <td>{'M': {'value': {'NULL': True}, 'timestamp': {...</td>\n",
       "      <td>{'M': {'value': {'NULL': True}, 'timestamp': {...</td>\n",
       "      <td>{'M': {'value': {'S': '0'}, 'timestamp': {'S':...</td>\n",
       "      <td>{'S': 'b1d89c45-ed9b-4a0e-8d78-28e628c2fb8c'}</td>\n",
       "      <td>{'S': '744_movies'}</td>\n",
       "      <td>{'M': {'value': {'NULL': True}, 'timestamp': {...</td>\n",
       "    </tr>\n",
       "    <tr>\n",
       "      <th>1</th>\n",
       "      <td>{'S': 'movies'}</td>\n",
       "      <td>{'M': {'value': {'NULL': True}, 'timestamp': {...</td>\n",
       "      <td>{'M': {'value': {'S': '3'}, 'timestamp': {'S':...</td>\n",
       "      <td>{'M': {'value': {'NULL': True}, 'timestamp': {...</td>\n",
       "      <td>{'S': 'b1d89c45-ed9b-4a0e-8d78-28e628c2fb8c'}</td>\n",
       "      <td>{'S': '820_movies'}</td>\n",
       "      <td>{'M': {'value': {'NULL': True}, 'timestamp': {...</td>\n",
       "    </tr>\n",
       "    <tr>\n",
       "      <th>2</th>\n",
       "      <td>{'S': 'movies'}</td>\n",
       "      <td>{'M': {'value': {'NULL': True}, 'timestamp': {...</td>\n",
       "      <td>{'M': {'value': {'NULL': True}, 'timestamp': {...</td>\n",
       "      <td>{'M': {'value': {'S': '0'}, 'timestamp': {'S':...</td>\n",
       "      <td>{'S': 'b1d89c45-ed9b-4a0e-8d78-28e628c2fb8c'}</td>\n",
       "      <td>{'S': '402_movies'}</td>\n",
       "      <td>{'M': {'value': {'NULL': True}, 'timestamp': {...</td>\n",
       "    </tr>\n",
       "    <tr>\n",
       "      <th>3</th>\n",
       "      <td>{'S': 'movies'}</td>\n",
       "      <td>{'M': {'value': {'NULL': True}, 'timestamp': {...</td>\n",
       "      <td>{'M': {'value': {'S': '3'}, 'timestamp': {'S':...</td>\n",
       "      <td>{'M': {'value': {'S': '0'}, 'timestamp': {'S':...</td>\n",
       "      <td>{'S': 'b1d89c45-ed9b-4a0e-8d78-28e628c2fb8c'}</td>\n",
       "      <td>{'S': '87_movies'}</td>\n",
       "      <td>{'M': {'value': {'NULL': True}, 'timestamp': {...</td>\n",
       "    </tr>\n",
       "    <tr>\n",
       "      <th>4</th>\n",
       "      <td>{'S': 'movies'}</td>\n",
       "      <td>{'M': {'value': {'NULL': True}, 'timestamp': {...</td>\n",
       "      <td>{'M': {'value': {'NULL': True}, 'timestamp': {...</td>\n",
       "      <td>{'M': {'value': {'S': '0'}, 'timestamp': {'S':...</td>\n",
       "      <td>{'S': 'b1d89c45-ed9b-4a0e-8d78-28e628c2fb8c'}</td>\n",
       "      <td>{'S': '810_movies'}</td>\n",
       "      <td>{'M': {'value': {'NULL': True}, 'timestamp': {...</td>\n",
       "    </tr>\n",
       "  </tbody>\n",
       "</table>\n",
       "</div>"
      ],
      "text/plain": [
       "        media_type                                            watched  \\\n",
       "0  {'S': 'movies'}  {'M': {'value': {'NULL': True}, 'timestamp': {...   \n",
       "1  {'S': 'movies'}  {'M': {'value': {'NULL': True}, 'timestamp': {...   \n",
       "2  {'S': 'movies'}  {'M': {'value': {'NULL': True}, 'timestamp': {...   \n",
       "3  {'S': 'movies'}  {'M': {'value': {'NULL': True}, 'timestamp': {...   \n",
       "4  {'S': 'movies'}  {'M': {'value': {'NULL': True}, 'timestamp': {...   \n",
       "\n",
       "                                              rating  \\\n",
       "0  {'M': {'value': {'NULL': True}, 'timestamp': {...   \n",
       "1  {'M': {'value': {'S': '3'}, 'timestamp': {'S':...   \n",
       "2  {'M': {'value': {'NULL': True}, 'timestamp': {...   \n",
       "3  {'M': {'value': {'S': '3'}, 'timestamp': {'S':...   \n",
       "4  {'M': {'value': {'NULL': True}, 'timestamp': {...   \n",
       "\n",
       "                                           watchlist  \\\n",
       "0  {'M': {'value': {'S': '0'}, 'timestamp': {'S':...   \n",
       "1  {'M': {'value': {'NULL': True}, 'timestamp': {...   \n",
       "2  {'M': {'value': {'S': '0'}, 'timestamp': {'S':...   \n",
       "3  {'M': {'value': {'S': '0'}, 'timestamp': {'S':...   \n",
       "4  {'M': {'value': {'S': '0'}, 'timestamp': {'S':...   \n",
       "\n",
       "                                      profile_id                   id  \\\n",
       "0  {'S': 'b1d89c45-ed9b-4a0e-8d78-28e628c2fb8c'}  {'S': '744_movies'}   \n",
       "1  {'S': 'b1d89c45-ed9b-4a0e-8d78-28e628c2fb8c'}  {'S': '820_movies'}   \n",
       "2  {'S': 'b1d89c45-ed9b-4a0e-8d78-28e628c2fb8c'}  {'S': '402_movies'}   \n",
       "3  {'S': 'b1d89c45-ed9b-4a0e-8d78-28e628c2fb8c'}   {'S': '87_movies'}   \n",
       "4  {'S': 'b1d89c45-ed9b-4a0e-8d78-28e628c2fb8c'}  {'S': '810_movies'}   \n",
       "\n",
       "                                                hide  \n",
       "0  {'M': {'value': {'NULL': True}, 'timestamp': {...  \n",
       "1  {'M': {'value': {'NULL': True}, 'timestamp': {...  \n",
       "2  {'M': {'value': {'NULL': True}, 'timestamp': {...  \n",
       "3  {'M': {'value': {'NULL': True}, 'timestamp': {...  \n",
       "4  {'M': {'value': {'NULL': True}, 'timestamp': {...  "
      ]
     },
     "execution_count": 23,
     "metadata": {},
     "output_type": "execute_result"
    }
   ],
   "source": [
    "activity_data.head()"
   ]
  },
  {
   "cell_type": "code",
   "execution_count": 6,
   "id": "64858a5c",
   "metadata": {},
   "outputs": [
    {
     "data": {
      "text/html": [
       "<div>\n",
       "<style scoped>\n",
       "    .dataframe tbody tr th:only-of-type {\n",
       "        vertical-align: middle;\n",
       "    }\n",
       "\n",
       "    .dataframe tbody tr th {\n",
       "        vertical-align: top;\n",
       "    }\n",
       "\n",
       "    .dataframe thead th {\n",
       "        text-align: right;\n",
       "    }\n",
       "</style>\n",
       "<table border=\"1\" class=\"dataframe\">\n",
       "  <thead>\n",
       "    <tr style=\"text-align: right;\">\n",
       "      <th></th>\n",
       "      <th>media_type</th>\n",
       "      <th>watched</th>\n",
       "      <th>rating</th>\n",
       "      <th>watchlist</th>\n",
       "      <th>profile_id</th>\n",
       "      <th>id</th>\n",
       "      <th>hide</th>\n",
       "    </tr>\n",
       "  </thead>\n",
       "  <tbody>\n",
       "    <tr>\n",
       "      <th>count</th>\n",
       "      <td>5</td>\n",
       "      <td>5</td>\n",
       "      <td>5</td>\n",
       "      <td>5</td>\n",
       "      <td>5</td>\n",
       "      <td>5</td>\n",
       "      <td>5</td>\n",
       "    </tr>\n",
       "    <tr>\n",
       "      <th>unique</th>\n",
       "      <td>1</td>\n",
       "      <td>1</td>\n",
       "      <td>3</td>\n",
       "      <td>5</td>\n",
       "      <td>1</td>\n",
       "      <td>5</td>\n",
       "      <td>1</td>\n",
       "    </tr>\n",
       "    <tr>\n",
       "      <th>top</th>\n",
       "      <td>{'S': 'movies'}</td>\n",
       "      <td>{'M': {'value': {'NULL': True}, 'timestamp': {...</td>\n",
       "      <td>{'M': {'value': {'NULL': True}, 'timestamp': {...</td>\n",
       "      <td>{'M': {'value': {'S': '0'}, 'timestamp': {'S':...</td>\n",
       "      <td>{'S': 'b1d89c45-ed9b-4a0e-8d78-28e628c2fb8c'}</td>\n",
       "      <td>{'S': '744_movies'}</td>\n",
       "      <td>{'M': {'value': {'NULL': True}, 'timestamp': {...</td>\n",
       "    </tr>\n",
       "    <tr>\n",
       "      <th>freq</th>\n",
       "      <td>5</td>\n",
       "      <td>5</td>\n",
       "      <td>3</td>\n",
       "      <td>1</td>\n",
       "      <td>5</td>\n",
       "      <td>1</td>\n",
       "      <td>5</td>\n",
       "    </tr>\n",
       "  </tbody>\n",
       "</table>\n",
       "</div>"
      ],
      "text/plain": [
       "             media_type                                            watched  \\\n",
       "count                 5                                                  5   \n",
       "unique                1                                                  1   \n",
       "top     {'S': 'movies'}  {'M': {'value': {'NULL': True}, 'timestamp': {...   \n",
       "freq                  5                                                  5   \n",
       "\n",
       "                                                   rating  \\\n",
       "count                                                   5   \n",
       "unique                                                  3   \n",
       "top     {'M': {'value': {'NULL': True}, 'timestamp': {...   \n",
       "freq                                                    3   \n",
       "\n",
       "                                                watchlist  \\\n",
       "count                                                   5   \n",
       "unique                                                  5   \n",
       "top     {'M': {'value': {'S': '0'}, 'timestamp': {'S':...   \n",
       "freq                                                    1   \n",
       "\n",
       "                                           profile_id                   id  \\\n",
       "count                                               5                    5   \n",
       "unique                                              1                    5   \n",
       "top     {'S': 'b1d89c45-ed9b-4a0e-8d78-28e628c2fb8c'}  {'S': '744_movies'}   \n",
       "freq                                                5                    1   \n",
       "\n",
       "                                                     hide  \n",
       "count                                                   5  \n",
       "unique                                                  1  \n",
       "top     {'M': {'value': {'NULL': True}, 'timestamp': {...  \n",
       "freq                                                    5  "
      ]
     },
     "execution_count": 6,
     "metadata": {},
     "output_type": "execute_result"
    }
   ],
   "source": [
    "activity_data.describe()"
   ]
  },
  {
   "cell_type": "code",
   "execution_count": 7,
   "id": "6e8adcc9",
   "metadata": {},
   "outputs": [
    {
     "data": {
      "text/plain": [
       "Index(['media_type', 'watched', 'rating', 'watchlist', 'profile_id', 'id',\n",
       "       'hide'],\n",
       "      dtype='object')"
      ]
     },
     "execution_count": 7,
     "metadata": {},
     "output_type": "execute_result"
    }
   ],
   "source": [
    "activity_data.columns"
   ]
  },
  {
   "cell_type": "code",
   "execution_count": 9,
   "id": "64c44b63",
   "metadata": {},
   "outputs": [
    {
     "name": "stdout",
     "output_type": "stream",
     "text": [
      "{'M': {'value': {'NULL': True}, 'timestamp': {'NULL': True}}}\n"
     ]
    }
   ],
   "source": [
    "print(activity_data['rating'][0])\n"
   ]
  },
  {
   "cell_type": "code",
   "execution_count": 10,
   "id": "ef2e2d61",
   "metadata": {},
   "outputs": [],
   "source": [
    "a = []\n",
    "for i in range(47):\n",
    "    res = ast.literal_eval(data['_source'][i])\n",
    "    res.update({'rating': 'nan', 'hide': 'nan', 'watchlist': 'nan', 'watched': 'nan'})\n",
    "    b = str(res)\n",
    "    a.append(b)"
   ]
  },
  {
   "cell_type": "code",
   "execution_count": 11,
   "id": "9854767d",
   "metadata": {},
   "outputs": [],
   "source": [
    "my_df = pd.DataFrame(a,columns=['_source'])"
   ]
  },
  {
   "cell_type": "code",
   "execution_count": 13,
   "id": "1f08541e",
   "metadata": {},
   "outputs": [
    {
     "data": {
      "text/html": [
       "<div>\n",
       "<style scoped>\n",
       "    .dataframe tbody tr th:only-of-type {\n",
       "        vertical-align: middle;\n",
       "    }\n",
       "\n",
       "    .dataframe tbody tr th {\n",
       "        vertical-align: top;\n",
       "    }\n",
       "\n",
       "    .dataframe thead th {\n",
       "        text-align: right;\n",
       "    }\n",
       "</style>\n",
       "<table border=\"1\" class=\"dataframe\">\n",
       "  <thead>\n",
       "    <tr style=\"text-align: right;\">\n",
       "      <th></th>\n",
       "      <th>_source</th>\n",
       "    </tr>\n",
       "  </thead>\n",
       "  <tbody>\n",
       "    <tr>\n",
       "      <th>0</th>\n",
       "      <td>{'cast': ['Jeff Bridges', 'Bruce Boxleitner', ...</td>\n",
       "    </tr>\n",
       "    <tr>\n",
       "      <th>1</th>\n",
       "      <td>{'cast': ['Eric Stoltz', 'Julie Delpy', 'Jean-...</td>\n",
       "    </tr>\n",
       "    <tr>\n",
       "      <th>2</th>\n",
       "      <td>{'cast': ['Bruce Dern', 'Cliff Potts', 'Ron Ri...</td>\n",
       "    </tr>\n",
       "    <tr>\n",
       "      <th>3</th>\n",
       "      <td>{'cast': ['Ron Rifkin', 'Eddie Barth', 'Charle...</td>\n",
       "    </tr>\n",
       "    <tr>\n",
       "      <th>4</th>\n",
       "      <td>{'cast': ['Margaret Rutherford', 'Ron Moody', ...</td>\n",
       "    </tr>\n",
       "  </tbody>\n",
       "</table>\n",
       "</div>"
      ],
      "text/plain": [
       "                                             _source\n",
       "0  {'cast': ['Jeff Bridges', 'Bruce Boxleitner', ...\n",
       "1  {'cast': ['Eric Stoltz', 'Julie Delpy', 'Jean-...\n",
       "2  {'cast': ['Bruce Dern', 'Cliff Potts', 'Ron Ri...\n",
       "3  {'cast': ['Ron Rifkin', 'Eddie Barth', 'Charle...\n",
       "4  {'cast': ['Margaret Rutherford', 'Ron Moody', ..."
      ]
     },
     "execution_count": 13,
     "metadata": {},
     "output_type": "execute_result"
    }
   ],
   "source": [
    "my_df"
   ]
  },
  {
   "cell_type": "code",
   "execution_count": 15,
   "id": "fca29d8e",
   "metadata": {},
   "outputs": [],
   "source": [
    "d = ast.literal_eval(activity_data['rating'][0])"
   ]
  }
 ],
 "metadata": {
  "kernelspec": {
   "display_name": "Python 3 (ipykernel)",
   "language": "python",
   "name": "python3"
  },
  "language_info": {
   "codemirror_mode": {
    "name": "ipython",
    "version": 3
   },
   "file_extension": ".py",
   "mimetype": "text/x-python",
   "name": "python",
   "nbconvert_exporter": "python",
   "pygments_lexer": "ipython3",
   "version": "3.7.10"
  }
 },
 "nbformat": 4,
 "nbformat_minor": 5
}
