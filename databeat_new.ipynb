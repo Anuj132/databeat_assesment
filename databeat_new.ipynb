{
 "cells": [
  {
   "cell_type": "code",
   "execution_count": 1,
   "id": "b9f2fbb9",
   "metadata": {},
   "outputs": [],
   "source": [
    "import pandas as pd\n",
    "import ast"
   ]
  },
  {
   "cell_type": "code",
   "execution_count": 2,
   "id": "2230d617",
   "metadata": {},
   "outputs": [],
   "source": [
    "data = pd.read_csv('data.csv')\n",
    "activity_data = pd.read_csv('activity_data.csv')"
   ]
  },
  {
   "cell_type": "code",
   "execution_count": 3,
   "id": "72426307",
   "metadata": {},
   "outputs": [
    {
     "data": {
      "text/html": [
       "<div>\n",
       "<style scoped>\n",
       "    .dataframe tbody tr th:only-of-type {\n",
       "        vertical-align: middle;\n",
       "    }\n",
       "\n",
       "    .dataframe tbody tr th {\n",
       "        vertical-align: top;\n",
       "    }\n",
       "\n",
       "    .dataframe thead th {\n",
       "        text-align: right;\n",
       "    }\n",
       "</style>\n",
       "<table border=\"1\" class=\"dataframe\">\n",
       "  <thead>\n",
       "    <tr style=\"text-align: right;\">\n",
       "      <th></th>\n",
       "      <th>_type</th>\n",
       "      <th>_id</th>\n",
       "      <th>_score</th>\n",
       "      <th>_source</th>\n",
       "    </tr>\n",
       "  </thead>\n",
       "  <tbody>\n",
       "    <tr>\n",
       "      <th>0</th>\n",
       "      <td>movies</td>\n",
       "      <td>97</td>\n",
       "      <td>20.848059</td>\n",
       "      <td>{'cast': ['Jeff Bridges', 'Bruce Boxleitner', ...</td>\n",
       "    </tr>\n",
       "    <tr>\n",
       "      <th>1</th>\n",
       "      <td>movies</td>\n",
       "      <td>507</td>\n",
       "      <td>10.478757</td>\n",
       "      <td>{'cast': ['Eric Stoltz', 'Julie Delpy', 'Jean-...</td>\n",
       "    </tr>\n",
       "    <tr>\n",
       "      <th>2</th>\n",
       "      <td>movies</td>\n",
       "      <td>811</td>\n",
       "      <td>9.831051</td>\n",
       "      <td>{'cast': ['Bruce Dern', 'Cliff Potts', 'Ron Ri...</td>\n",
       "    </tr>\n",
       "    <tr>\n",
       "      <th>3</th>\n",
       "      <td>tvshows</td>\n",
       "      <td>25222</td>\n",
       "      <td>9.288745</td>\n",
       "      <td>{'cast': ['Ron Rifkin', 'Eddie Barth', 'Charle...</td>\n",
       "    </tr>\n",
       "    <tr>\n",
       "      <th>4</th>\n",
       "      <td>movies</td>\n",
       "      <td>757</td>\n",
       "      <td>9.140831</td>\n",
       "      <td>{'cast': ['Margaret Rutherford', 'Ron Moody', ...</td>\n",
       "    </tr>\n",
       "  </tbody>\n",
       "</table>\n",
       "</div>"
      ],
      "text/plain": [
       "     _type    _id     _score  \\\n",
       "0   movies     97  20.848059   \n",
       "1   movies    507  10.478757   \n",
       "2   movies    811   9.831051   \n",
       "3  tvshows  25222   9.288745   \n",
       "4   movies    757   9.140831   \n",
       "\n",
       "                                             _source  \n",
       "0  {'cast': ['Jeff Bridges', 'Bruce Boxleitner', ...  \n",
       "1  {'cast': ['Eric Stoltz', 'Julie Delpy', 'Jean-...  \n",
       "2  {'cast': ['Bruce Dern', 'Cliff Potts', 'Ron Ri...  \n",
       "3  {'cast': ['Ron Rifkin', 'Eddie Barth', 'Charle...  \n",
       "4  {'cast': ['Margaret Rutherford', 'Ron Moody', ...  "
      ]
     },
     "execution_count": 3,
     "metadata": {},
     "output_type": "execute_result"
    }
   ],
   "source": [
    "data.head()"
   ]
  },
  {
   "cell_type": "code",
   "execution_count": 19,
   "id": "40948ba2",
   "metadata": {},
   "outputs": [
    {
     "data": {
      "text/plain": [
       "int"
      ]
     },
     "execution_count": 19,
     "metadata": {},
     "output_type": "execute_result"
    }
   ],
   "source": [
    "type(int(data['_id'][0]))"
   ]
  },
  {
   "cell_type": "code",
   "execution_count": 4,
   "id": "630278d2",
   "metadata": {},
   "outputs": [
    {
     "data": {
      "text/html": [
       "<div>\n",
       "<style scoped>\n",
       "    .dataframe tbody tr th:only-of-type {\n",
       "        vertical-align: middle;\n",
       "    }\n",
       "\n",
       "    .dataframe tbody tr th {\n",
       "        vertical-align: top;\n",
       "    }\n",
       "\n",
       "    .dataframe thead th {\n",
       "        text-align: right;\n",
       "    }\n",
       "</style>\n",
       "<table border=\"1\" class=\"dataframe\">\n",
       "  <thead>\n",
       "    <tr style=\"text-align: right;\">\n",
       "      <th></th>\n",
       "      <th>media_type</th>\n",
       "      <th>watched</th>\n",
       "      <th>rating</th>\n",
       "      <th>watchlist</th>\n",
       "      <th>profile_id</th>\n",
       "      <th>id</th>\n",
       "      <th>hide</th>\n",
       "    </tr>\n",
       "  </thead>\n",
       "  <tbody>\n",
       "    <tr>\n",
       "      <th>0</th>\n",
       "      <td>{'S': 'movies'}</td>\n",
       "      <td>{'M': {'value': {'NULL': True}, 'timestamp': {...</td>\n",
       "      <td>{'M': {'value': {'NULL': True}, 'timestamp': {...</td>\n",
       "      <td>{'M': {'value': {'S': '0'}, 'timestamp': {'S':...</td>\n",
       "      <td>{'S': 'b1d89c45-ed9b-4a0e-8d78-28e628c2fb8c'}</td>\n",
       "      <td>{'S': '744_movies'}</td>\n",
       "      <td>{'M': {'value': {'NULL': True}, 'timestamp': {...</td>\n",
       "    </tr>\n",
       "    <tr>\n",
       "      <th>1</th>\n",
       "      <td>{'S': 'movies'}</td>\n",
       "      <td>{'M': {'value': {'NULL': True}, 'timestamp': {...</td>\n",
       "      <td>{'M': {'value': {'S': '3'}, 'timestamp': {'S':...</td>\n",
       "      <td>{'M': {'value': {'NULL': True}, 'timestamp': {...</td>\n",
       "      <td>{'S': 'b1d89c45-ed9b-4a0e-8d78-28e628c2fb8c'}</td>\n",
       "      <td>{'S': '820_movies'}</td>\n",
       "      <td>{'M': {'value': {'NULL': True}, 'timestamp': {...</td>\n",
       "    </tr>\n",
       "    <tr>\n",
       "      <th>2</th>\n",
       "      <td>{'S': 'movies'}</td>\n",
       "      <td>{'M': {'value': {'NULL': True}, 'timestamp': {...</td>\n",
       "      <td>{'M': {'value': {'NULL': True}, 'timestamp': {...</td>\n",
       "      <td>{'M': {'value': {'S': '0'}, 'timestamp': {'S':...</td>\n",
       "      <td>{'S': 'b1d89c45-ed9b-4a0e-8d78-28e628c2fb8c'}</td>\n",
       "      <td>{'S': '402_movies'}</td>\n",
       "      <td>{'M': {'value': {'NULL': True}, 'timestamp': {...</td>\n",
       "    </tr>\n",
       "    <tr>\n",
       "      <th>3</th>\n",
       "      <td>{'S': 'movies'}</td>\n",
       "      <td>{'M': {'value': {'NULL': True}, 'timestamp': {...</td>\n",
       "      <td>{'M': {'value': {'S': '3'}, 'timestamp': {'S':...</td>\n",
       "      <td>{'M': {'value': {'S': '0'}, 'timestamp': {'S':...</td>\n",
       "      <td>{'S': 'b1d89c45-ed9b-4a0e-8d78-28e628c2fb8c'}</td>\n",
       "      <td>{'S': '87_movies'}</td>\n",
       "      <td>{'M': {'value': {'NULL': True}, 'timestamp': {...</td>\n",
       "    </tr>\n",
       "    <tr>\n",
       "      <th>4</th>\n",
       "      <td>{'S': 'movies'}</td>\n",
       "      <td>{'M': {'value': {'NULL': True}, 'timestamp': {...</td>\n",
       "      <td>{'M': {'value': {'NULL': True}, 'timestamp': {...</td>\n",
       "      <td>{'M': {'value': {'S': '0'}, 'timestamp': {'S':...</td>\n",
       "      <td>{'S': 'b1d89c45-ed9b-4a0e-8d78-28e628c2fb8c'}</td>\n",
       "      <td>{'S': '810_movies'}</td>\n",
       "      <td>{'M': {'value': {'NULL': True}, 'timestamp': {...</td>\n",
       "    </tr>\n",
       "  </tbody>\n",
       "</table>\n",
       "</div>"
      ],
      "text/plain": [
       "        media_type                                            watched  \\\n",
       "0  {'S': 'movies'}  {'M': {'value': {'NULL': True}, 'timestamp': {...   \n",
       "1  {'S': 'movies'}  {'M': {'value': {'NULL': True}, 'timestamp': {...   \n",
       "2  {'S': 'movies'}  {'M': {'value': {'NULL': True}, 'timestamp': {...   \n",
       "3  {'S': 'movies'}  {'M': {'value': {'NULL': True}, 'timestamp': {...   \n",
       "4  {'S': 'movies'}  {'M': {'value': {'NULL': True}, 'timestamp': {...   \n",
       "\n",
       "                                              rating  \\\n",
       "0  {'M': {'value': {'NULL': True}, 'timestamp': {...   \n",
       "1  {'M': {'value': {'S': '3'}, 'timestamp': {'S':...   \n",
       "2  {'M': {'value': {'NULL': True}, 'timestamp': {...   \n",
       "3  {'M': {'value': {'S': '3'}, 'timestamp': {'S':...   \n",
       "4  {'M': {'value': {'NULL': True}, 'timestamp': {...   \n",
       "\n",
       "                                           watchlist  \\\n",
       "0  {'M': {'value': {'S': '0'}, 'timestamp': {'S':...   \n",
       "1  {'M': {'value': {'NULL': True}, 'timestamp': {...   \n",
       "2  {'M': {'value': {'S': '0'}, 'timestamp': {'S':...   \n",
       "3  {'M': {'value': {'S': '0'}, 'timestamp': {'S':...   \n",
       "4  {'M': {'value': {'S': '0'}, 'timestamp': {'S':...   \n",
       "\n",
       "                                      profile_id                   id  \\\n",
       "0  {'S': 'b1d89c45-ed9b-4a0e-8d78-28e628c2fb8c'}  {'S': '744_movies'}   \n",
       "1  {'S': 'b1d89c45-ed9b-4a0e-8d78-28e628c2fb8c'}  {'S': '820_movies'}   \n",
       "2  {'S': 'b1d89c45-ed9b-4a0e-8d78-28e628c2fb8c'}  {'S': '402_movies'}   \n",
       "3  {'S': 'b1d89c45-ed9b-4a0e-8d78-28e628c2fb8c'}   {'S': '87_movies'}   \n",
       "4  {'S': 'b1d89c45-ed9b-4a0e-8d78-28e628c2fb8c'}  {'S': '810_movies'}   \n",
       "\n",
       "                                                hide  \n",
       "0  {'M': {'value': {'NULL': True}, 'timestamp': {...  \n",
       "1  {'M': {'value': {'NULL': True}, 'timestamp': {...  \n",
       "2  {'M': {'value': {'NULL': True}, 'timestamp': {...  \n",
       "3  {'M': {'value': {'NULL': True}, 'timestamp': {...  \n",
       "4  {'M': {'value': {'NULL': True}, 'timestamp': {...  "
      ]
     },
     "execution_count": 4,
     "metadata": {},
     "output_type": "execute_result"
    }
   ],
   "source": [
    "activity_data.head()"
   ]
  },
  {
   "cell_type": "code",
   "execution_count": 14,
   "id": "d726ff39",
   "metadata": {},
   "outputs": [
    {
     "data": {
      "text/plain": [
       "744"
      ]
     },
     "execution_count": 14,
     "metadata": {},
     "output_type": "execute_result"
    }
   ],
   "source": [
    "len(activity_data)\n",
    "activity_data.columns\n",
    "d = ast.literal_eval(activity_data['id'][0])\n",
    "int(d['S'][])"
   ]
  },
  {
   "cell_type": "code",
   "execution_count": 46,
   "id": "bb1ecec3",
   "metadata": {},
   "outputs": [
    {
     "name": "stdout",
     "output_type": "stream",
     "text": [
      "3\n"
     ]
    }
   ],
   "source": [
    "res = ast.literal_eval(data['_source'][1])\n",
    "d_rating = ast.literal_eval(activity_data['rating'][1])\n",
    "value = d_rating['M']['value']['S']\n",
    "print(value)"
   ]
  },
  {
   "cell_type": "code",
   "execution_count": 50,
   "id": "cd6b4cb4",
   "metadata": {},
   "outputs": [
    {
     "data": {
      "text/plain": [
       "[\"{'cast': ['Will Smith', 'Bill Pullman', 'Jeff Goldblum', 'Mary McDonnell', 'Judd Hirsch', 'Randy Quaid', 'Robert Loggia', 'Margaret Colin', 'James Rebhorn', 'Harvey Fierstein', 'Adam Baldwin', 'Brent Spiner', 'James Duval', 'Vivica A. Fox', 'Lisa Jakub', 'Ross Bagley', 'Mae Whitman', 'Bill Smitrovich', 'Kiersten Warren', 'Harry Connick Jr.', 'Giuseppe Andrews', 'John Storey', 'Frank Novak', 'Devon Gummersall', 'Leland Orser', 'Mirron E. Willis', 'Ross Lacy', 'David Pressman', 'Vivian Palermo', 'Raphael Sbarge', 'Bobby Hosea', 'Dan Lauria', 'Steve Giannelli', 'Eric Paskel', 'Carlos Lacámara', 'John Bennett Perry', 'Troy Willis', 'Tim Kelleher', 'Wayne Wilderson', 'Jay Acovone', 'James Wong', 'Thom Barry', 'Jana Marie Hupp', 'Matt Pashkow', 'Robert Pine', 'Marisa Johnston', 'Michael Winther', 'Warren Dexter Beatty', 'Paul LeClair', 'Michael Vacca', 'David Channell', 'John Capodice', 'Greg Collins', 'Derek Webster', 'Mark Fite', 'Eric Neal Newman', 'Levani', 'Kristof Konrad', 'Kevin Sifuentes', 'Elston Ridgle', 'Randy Oglesby', 'Jack Moore', 'Barry Del Sherman', 'Lyman Ward', 'Anthony Crivello', 'Richard Speight Jr.', 'Barbara Beck', 'Joe Fowler', 'Andrew Warner', 'Sharon Tay', 'Peter J. Lucas', 'Yelena Danova', 'Johnny Kim', 'Vanessa J. Wells', 'Jessika Cardinahl', 'Gary W. Cruz', 'Ron Pitts', 'Wendy L. Walsh', 'Christine Devine', 'Mark Thompson', 'Ernie Anastos', 'Kevin Cooney', 'Rance Howard', 'Nelson Mashita', 'Jeff Phillips', 'Sayed Badreya', 'Adam Tomei', 'John Bradley', 'Kimberly Beck', 'Thomas F. Duffy', 'Andrew Keegan', 'Jon Shear', 'Jim Piddock', 'Frederic W. Barnes', 'Eleanor Clift', 'Jerry Dunphy', 'Jack Germond', 'Morton Kondracke', 'John McLaughlin', 'Barry Nolan', 'George Putnam', 'Eric Michael Zee', 'Pat Skipper', 'Carlos Lara', 'Mike Monteleone', 'Lee Strauss', 'Lisa Star', 'Malcolm Danare', 'Arthur Brooks', 'Michael Moertl', 'James J. Joyce', 'Joyce Cohen', 'Julie Moran', 'Robin Groth', 'Richard Pachorek', 'Dakota', 'Gary A. Hecker', 'Frank Welker'], 'streaming_modes': ['Pay & Watch'], 'thumbnail_id': {'mob': '602-mob-w342-p0BPQGSPoSa8Ml0DAf2mB2kCU0R', 'tv': '602-tv-w780-p0BPQGSPoSa8Ml0DAf2mB2kCU0R', 'web': '602-web-w500-p0BPQGSPoSa8Ml0DAf2mB2kCU0R'}, 'media_type': 'movies', 'year': '1996', 'genres': ['Action', 'Adventure', 'Science Fiction'], 'ratings': {'internet_movie_database': '7.0/10'}, 'language': 'English', 'id': '602', 'services': ['Apple iTunes'], 'title_name': 'Independence Day', 'sooper_original': False, 'rating': 'nan', 'hide': 'nan', 'watchlist': 'nan', 'watched': 'nan'}\",\n",
       " \"{'cast': ['Will Smith', 'Bill Pullman', 'Jeff Goldblum', 'Mary McDonnell', 'Judd Hirsch', 'Randy Quaid', 'Robert Loggia', 'Margaret Colin', 'James Rebhorn', 'Harvey Fierstein', 'Adam Baldwin', 'Brent Spiner', 'James Duval', 'Vivica A. Fox', 'Lisa Jakub', 'Ross Bagley', 'Mae Whitman', 'Bill Smitrovich', 'Kiersten Warren', 'Harry Connick Jr.', 'Giuseppe Andrews', 'John Storey', 'Frank Novak', 'Devon Gummersall', 'Leland Orser', 'Mirron E. Willis', 'Ross Lacy', 'David Pressman', 'Vivian Palermo', 'Raphael Sbarge', 'Bobby Hosea', 'Dan Lauria', 'Steve Giannelli', 'Eric Paskel', 'Carlos Lacámara', 'John Bennett Perry', 'Troy Willis', 'Tim Kelleher', 'Wayne Wilderson', 'Jay Acovone', 'James Wong', 'Thom Barry', 'Jana Marie Hupp', 'Matt Pashkow', 'Robert Pine', 'Marisa Johnston', 'Michael Winther', 'Warren Dexter Beatty', 'Paul LeClair', 'Michael Vacca', 'David Channell', 'John Capodice', 'Greg Collins', 'Derek Webster', 'Mark Fite', 'Eric Neal Newman', 'Levani', 'Kristof Konrad', 'Kevin Sifuentes', 'Elston Ridgle', 'Randy Oglesby', 'Jack Moore', 'Barry Del Sherman', 'Lyman Ward', 'Anthony Crivello', 'Richard Speight Jr.', 'Barbara Beck', 'Joe Fowler', 'Andrew Warner', 'Sharon Tay', 'Peter J. Lucas', 'Yelena Danova', 'Johnny Kim', 'Vanessa J. Wells', 'Jessika Cardinahl', 'Gary W. Cruz', 'Ron Pitts', 'Wendy L. Walsh', 'Christine Devine', 'Mark Thompson', 'Ernie Anastos', 'Kevin Cooney', 'Rance Howard', 'Nelson Mashita', 'Jeff Phillips', 'Sayed Badreya', 'Adam Tomei', 'John Bradley', 'Kimberly Beck', 'Thomas F. Duffy', 'Andrew Keegan', 'Jon Shear', 'Jim Piddock', 'Frederic W. Barnes', 'Eleanor Clift', 'Jerry Dunphy', 'Jack Germond', 'Morton Kondracke', 'John McLaughlin', 'Barry Nolan', 'George Putnam', 'Eric Michael Zee', 'Pat Skipper', 'Carlos Lara', 'Mike Monteleone', 'Lee Strauss', 'Lisa Star', 'Malcolm Danare', 'Arthur Brooks', 'Michael Moertl', 'James J. Joyce', 'Joyce Cohen', 'Julie Moran', 'Robin Groth', 'Richard Pachorek', 'Dakota', 'Gary A. Hecker', 'Frank Welker'], 'streaming_modes': ['Pay & Watch'], 'thumbnail_id': {'mob': '602-mob-w342-p0BPQGSPoSa8Ml0DAf2mB2kCU0R', 'tv': '602-tv-w780-p0BPQGSPoSa8Ml0DAf2mB2kCU0R', 'web': '602-web-w500-p0BPQGSPoSa8Ml0DAf2mB2kCU0R'}, 'media_type': 'movies', 'year': '1996', 'genres': ['Action', 'Adventure', 'Science Fiction'], 'ratings': {'internet_movie_database': '7.0/10'}, 'language': 'English', 'id': '602', 'services': ['Apple iTunes'], 'title_name': 'Independence Day', 'sooper_original': False, 'rating': 'nan', 'hide': 'nan', 'watchlist': 'nan', 'watched': 'nan'}\",\n",
       " \"{'cast': ['Will Smith', 'Bill Pullman', 'Jeff Goldblum', 'Mary McDonnell', 'Judd Hirsch', 'Randy Quaid', 'Robert Loggia', 'Margaret Colin', 'James Rebhorn', 'Harvey Fierstein', 'Adam Baldwin', 'Brent Spiner', 'James Duval', 'Vivica A. Fox', 'Lisa Jakub', 'Ross Bagley', 'Mae Whitman', 'Bill Smitrovich', 'Kiersten Warren', 'Harry Connick Jr.', 'Giuseppe Andrews', 'John Storey', 'Frank Novak', 'Devon Gummersall', 'Leland Orser', 'Mirron E. Willis', 'Ross Lacy', 'David Pressman', 'Vivian Palermo', 'Raphael Sbarge', 'Bobby Hosea', 'Dan Lauria', 'Steve Giannelli', 'Eric Paskel', 'Carlos Lacámara', 'John Bennett Perry', 'Troy Willis', 'Tim Kelleher', 'Wayne Wilderson', 'Jay Acovone', 'James Wong', 'Thom Barry', 'Jana Marie Hupp', 'Matt Pashkow', 'Robert Pine', 'Marisa Johnston', 'Michael Winther', 'Warren Dexter Beatty', 'Paul LeClair', 'Michael Vacca', 'David Channell', 'John Capodice', 'Greg Collins', 'Derek Webster', 'Mark Fite', 'Eric Neal Newman', 'Levani', 'Kristof Konrad', 'Kevin Sifuentes', 'Elston Ridgle', 'Randy Oglesby', 'Jack Moore', 'Barry Del Sherman', 'Lyman Ward', 'Anthony Crivello', 'Richard Speight Jr.', 'Barbara Beck', 'Joe Fowler', 'Andrew Warner', 'Sharon Tay', 'Peter J. Lucas', 'Yelena Danova', 'Johnny Kim', 'Vanessa J. Wells', 'Jessika Cardinahl', 'Gary W. Cruz', 'Ron Pitts', 'Wendy L. Walsh', 'Christine Devine', 'Mark Thompson', 'Ernie Anastos', 'Kevin Cooney', 'Rance Howard', 'Nelson Mashita', 'Jeff Phillips', 'Sayed Badreya', 'Adam Tomei', 'John Bradley', 'Kimberly Beck', 'Thomas F. Duffy', 'Andrew Keegan', 'Jon Shear', 'Jim Piddock', 'Frederic W. Barnes', 'Eleanor Clift', 'Jerry Dunphy', 'Jack Germond', 'Morton Kondracke', 'John McLaughlin', 'Barry Nolan', 'George Putnam', 'Eric Michael Zee', 'Pat Skipper', 'Carlos Lara', 'Mike Monteleone', 'Lee Strauss', 'Lisa Star', 'Malcolm Danare', 'Arthur Brooks', 'Michael Moertl', 'James J. Joyce', 'Joyce Cohen', 'Julie Moran', 'Robin Groth', 'Richard Pachorek', 'Dakota', 'Gary A. Hecker', 'Frank Welker'], 'streaming_modes': ['Pay & Watch'], 'thumbnail_id': {'mob': '602-mob-w342-p0BPQGSPoSa8Ml0DAf2mB2kCU0R', 'tv': '602-tv-w780-p0BPQGSPoSa8Ml0DAf2mB2kCU0R', 'web': '602-web-w500-p0BPQGSPoSa8Ml0DAf2mB2kCU0R'}, 'media_type': 'movies', 'year': '1996', 'genres': ['Action', 'Adventure', 'Science Fiction'], 'ratings': {'internet_movie_database': '7.0/10'}, 'language': 'English', 'id': '602', 'services': ['Apple iTunes'], 'title_name': 'Independence Day', 'sooper_original': False, 'rating': 'nan', 'hide': 'nan', 'watchlist': 'nan', 'watched': 'nan'}\",\n",
       " \"{'cast': ['Will Smith', 'Bill Pullman', 'Jeff Goldblum', 'Mary McDonnell', 'Judd Hirsch', 'Randy Quaid', 'Robert Loggia', 'Margaret Colin', 'James Rebhorn', 'Harvey Fierstein', 'Adam Baldwin', 'Brent Spiner', 'James Duval', 'Vivica A. Fox', 'Lisa Jakub', 'Ross Bagley', 'Mae Whitman', 'Bill Smitrovich', 'Kiersten Warren', 'Harry Connick Jr.', 'Giuseppe Andrews', 'John Storey', 'Frank Novak', 'Devon Gummersall', 'Leland Orser', 'Mirron E. Willis', 'Ross Lacy', 'David Pressman', 'Vivian Palermo', 'Raphael Sbarge', 'Bobby Hosea', 'Dan Lauria', 'Steve Giannelli', 'Eric Paskel', 'Carlos Lacámara', 'John Bennett Perry', 'Troy Willis', 'Tim Kelleher', 'Wayne Wilderson', 'Jay Acovone', 'James Wong', 'Thom Barry', 'Jana Marie Hupp', 'Matt Pashkow', 'Robert Pine', 'Marisa Johnston', 'Michael Winther', 'Warren Dexter Beatty', 'Paul LeClair', 'Michael Vacca', 'David Channell', 'John Capodice', 'Greg Collins', 'Derek Webster', 'Mark Fite', 'Eric Neal Newman', 'Levani', 'Kristof Konrad', 'Kevin Sifuentes', 'Elston Ridgle', 'Randy Oglesby', 'Jack Moore', 'Barry Del Sherman', 'Lyman Ward', 'Anthony Crivello', 'Richard Speight Jr.', 'Barbara Beck', 'Joe Fowler', 'Andrew Warner', 'Sharon Tay', 'Peter J. Lucas', 'Yelena Danova', 'Johnny Kim', 'Vanessa J. Wells', 'Jessika Cardinahl', 'Gary W. Cruz', 'Ron Pitts', 'Wendy L. Walsh', 'Christine Devine', 'Mark Thompson', 'Ernie Anastos', 'Kevin Cooney', 'Rance Howard', 'Nelson Mashita', 'Jeff Phillips', 'Sayed Badreya', 'Adam Tomei', 'John Bradley', 'Kimberly Beck', 'Thomas F. Duffy', 'Andrew Keegan', 'Jon Shear', 'Jim Piddock', 'Frederic W. Barnes', 'Eleanor Clift', 'Jerry Dunphy', 'Jack Germond', 'Morton Kondracke', 'John McLaughlin', 'Barry Nolan', 'George Putnam', 'Eric Michael Zee', 'Pat Skipper', 'Carlos Lara', 'Mike Monteleone', 'Lee Strauss', 'Lisa Star', 'Malcolm Danare', 'Arthur Brooks', 'Michael Moertl', 'James J. Joyce', 'Joyce Cohen', 'Julie Moran', 'Robin Groth', 'Richard Pachorek', 'Dakota', 'Gary A. Hecker', 'Frank Welker'], 'streaming_modes': ['Pay & Watch'], 'thumbnail_id': {'mob': '602-mob-w342-p0BPQGSPoSa8Ml0DAf2mB2kCU0R', 'tv': '602-tv-w780-p0BPQGSPoSa8Ml0DAf2mB2kCU0R', 'web': '602-web-w500-p0BPQGSPoSa8Ml0DAf2mB2kCU0R'}, 'media_type': 'movies', 'year': '1996', 'genres': ['Action', 'Adventure', 'Science Fiction'], 'ratings': {'internet_movie_database': '7.0/10'}, 'language': 'English', 'id': '602', 'services': ['Apple iTunes'], 'title_name': 'Independence Day', 'sooper_original': False, 'rating': 'nan', 'hide': 'nan', 'watchlist': 'nan', 'watched': 'nan'}\",\n",
       " \"{'cast': ['Will Smith', 'Bill Pullman', 'Jeff Goldblum', 'Mary McDonnell', 'Judd Hirsch', 'Randy Quaid', 'Robert Loggia', 'Margaret Colin', 'James Rebhorn', 'Harvey Fierstein', 'Adam Baldwin', 'Brent Spiner', 'James Duval', 'Vivica A. Fox', 'Lisa Jakub', 'Ross Bagley', 'Mae Whitman', 'Bill Smitrovich', 'Kiersten Warren', 'Harry Connick Jr.', 'Giuseppe Andrews', 'John Storey', 'Frank Novak', 'Devon Gummersall', 'Leland Orser', 'Mirron E. Willis', 'Ross Lacy', 'David Pressman', 'Vivian Palermo', 'Raphael Sbarge', 'Bobby Hosea', 'Dan Lauria', 'Steve Giannelli', 'Eric Paskel', 'Carlos Lacámara', 'John Bennett Perry', 'Troy Willis', 'Tim Kelleher', 'Wayne Wilderson', 'Jay Acovone', 'James Wong', 'Thom Barry', 'Jana Marie Hupp', 'Matt Pashkow', 'Robert Pine', 'Marisa Johnston', 'Michael Winther', 'Warren Dexter Beatty', 'Paul LeClair', 'Michael Vacca', 'David Channell', 'John Capodice', 'Greg Collins', 'Derek Webster', 'Mark Fite', 'Eric Neal Newman', 'Levani', 'Kristof Konrad', 'Kevin Sifuentes', 'Elston Ridgle', 'Randy Oglesby', 'Jack Moore', 'Barry Del Sherman', 'Lyman Ward', 'Anthony Crivello', 'Richard Speight Jr.', 'Barbara Beck', 'Joe Fowler', 'Andrew Warner', 'Sharon Tay', 'Peter J. Lucas', 'Yelena Danova', 'Johnny Kim', 'Vanessa J. Wells', 'Jessika Cardinahl', 'Gary W. Cruz', 'Ron Pitts', 'Wendy L. Walsh', 'Christine Devine', 'Mark Thompson', 'Ernie Anastos', 'Kevin Cooney', 'Rance Howard', 'Nelson Mashita', 'Jeff Phillips', 'Sayed Badreya', 'Adam Tomei', 'John Bradley', 'Kimberly Beck', 'Thomas F. Duffy', 'Andrew Keegan', 'Jon Shear', 'Jim Piddock', 'Frederic W. Barnes', 'Eleanor Clift', 'Jerry Dunphy', 'Jack Germond', 'Morton Kondracke', 'John McLaughlin', 'Barry Nolan', 'George Putnam', 'Eric Michael Zee', 'Pat Skipper', 'Carlos Lara', 'Mike Monteleone', 'Lee Strauss', 'Lisa Star', 'Malcolm Danare', 'Arthur Brooks', 'Michael Moertl', 'James J. Joyce', 'Joyce Cohen', 'Julie Moran', 'Robin Groth', 'Richard Pachorek', 'Dakota', 'Gary A. Hecker', 'Frank Welker'], 'streaming_modes': ['Pay & Watch'], 'thumbnail_id': {'mob': '602-mob-w342-p0BPQGSPoSa8Ml0DAf2mB2kCU0R', 'tv': '602-tv-w780-p0BPQGSPoSa8Ml0DAf2mB2kCU0R', 'web': '602-web-w500-p0BPQGSPoSa8Ml0DAf2mB2kCU0R'}, 'media_type': 'movies', 'year': '1996', 'genres': ['Action', 'Adventure', 'Science Fiction'], 'ratings': {'internet_movie_database': '7.0/10'}, 'language': 'English', 'id': '602', 'services': ['Apple iTunes'], 'title_name': 'Independence Day', 'sooper_original': False, 'rating': 'nan', 'hide': 'nan', 'watchlist': 'nan', 'watched': 'nan'}\"]"
      ]
     },
     "execution_count": 50,
     "metadata": {},
     "output_type": "execute_result"
    }
   ],
   "source": [
    "l_dict = []\n",
    "for i in range(len(activity_data)):\n",
    "    d = ast.literal_eval(activity_data['id'][i])\n",
    "    start_index = len(d['S'])\n",
    "    b = d['S'][-start_index:-7:1]\n",
    "    temp_id = int(b)\n",
    "    for j in range(len(data)):\n",
    "        if temp_id==data['_id'][j]:\n",
    "            result_dict = ast.literal_eval(data['_source'][j])\n",
    "            result_dict.update({'rating': 'nan', 'hide': 'nan', 'watchlist': '0', 'watched': 'nan'})\n",
    "        else:\n",
    "            result_dict = ast.literal_eval(data['_source'][j])\n",
    "            result_dict.update({'rating': 'nan', 'hide': 'nan', 'watchlist': 'nan', 'watched': 'nan'})\n",
    "    dict_string = str(result_dict)\n",
    "    l_dict.append(dict_string) \n",
    "l_dict    "
   ]
  },
  {
   "cell_type": "code",
   "execution_count": 51,
   "id": "e54ca759",
   "metadata": {},
   "outputs": [],
   "source": [
    "my_df = pd.DataFrame(l_dict,columns=['_source'])"
   ]
  },
  {
   "cell_type": "code",
   "execution_count": null,
   "id": "d746cfba",
   "metadata": {},
   "outputs": [],
   "source": []
  }
 ],
 "metadata": {
  "kernelspec": {
   "display_name": "Python 3 (ipykernel)",
   "language": "python",
   "name": "python3"
  },
  "language_info": {
   "codemirror_mode": {
    "name": "ipython",
    "version": 3
   },
   "file_extension": ".py",
   "mimetype": "text/x-python",
   "name": "python",
   "nbconvert_exporter": "python",
   "pygments_lexer": "ipython3",
   "version": "3.7.10"
  }
 },
 "nbformat": 4,
 "nbformat_minor": 5
}
